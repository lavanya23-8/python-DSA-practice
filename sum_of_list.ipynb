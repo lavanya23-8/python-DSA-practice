{
 "cells": [
  {
   "cell_type": "code",
   "execution_count": null,
   "id": "7f4aa477-b5b8-4949-b04b-fbd0b5a2b722",
   "metadata": {},
   "outputs": [],
   "source": [
    "numbers = [3, 7, 9, 2, 5]\n",
    "total = 0\n",
    "\n",
    "for n in numbers:\n",
    "    total += n\n",
    "\n",
    "print(\"Sum of list elements:\", total)\n"
   ]
  }
 ],
 "metadata": {
  "kernelspec": {
   "display_name": "Python [conda env:base] *",
   "language": "python",
   "name": "conda-base-py"
  },
  "language_info": {
   "codemirror_mode": {
    "name": "ipython",
    "version": 3
   },
   "file_extension": ".py",
   "mimetype": "text/x-python",
   "name": "python",
   "nbconvert_exporter": "python",
   "pygments_lexer": "ipython3",
   "version": "3.13.5"
  }
 },
 "nbformat": 4,
 "nbformat_minor": 5
}
