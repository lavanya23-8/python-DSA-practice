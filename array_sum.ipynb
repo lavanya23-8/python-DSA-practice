{
 "cells": [
  {
   "cell_type": "code",
   "execution_count": 1,
   "id": "796aeddd-a8a5-4927-a815-0471ccb4de8c",
   "metadata": {},
   "outputs": [
    {
     "name": "stdout",
     "output_type": "stream",
     "text": [
      "Array: [10, 20, 30, 40, 50]\n",
      "Sum of elements: 150\n"
     ]
    }
   ],
   "source": [
    "arr = [10,20,30,40,50]\n",
    "sum_of_array = 0\n",
    "\n",
    "for num in arr:\n",
    "    sum_of_array += num\n",
    "\n",
    "print(\"Array:\", arr)\n",
    "print(\"Sum of elements:\", sum_of_array)"
   ]
  },
  {
   "cell_type": "code",
   "execution_count": null,
   "id": "a899609b-90e5-45d6-9d56-9de5c45bd3f9",
   "metadata": {},
   "outputs": [],
   "source": []
  }
 ],
 "metadata": {
  "kernelspec": {
   "display_name": "Python [conda env:base] *",
   "language": "python",
   "name": "conda-base-py"
  },
  "language_info": {
   "codemirror_mode": {
    "name": "ipython",
    "version": 3
   },
   "file_extension": ".py",
   "mimetype": "text/x-python",
   "name": "python",
   "nbconvert_exporter": "python",
   "pygments_lexer": "ipython3",
   "version": "3.13.5"
  }
 },
 "nbformat": 4,
 "nbformat_minor": 5
}
