{
 "cells": [
  {
   "cell_type": "code",
   "execution_count": 2,
   "id": "b4a85d84-4ca0-42c7-ac10-594d7e419ae1",
   "metadata": {},
   "outputs": [
    {
     "name": "stdin",
     "output_type": "stream",
     "text": [
      "Enter a sentence:  I am lavanya\n"
     ]
    },
    {
     "name": "stdout",
     "output_type": "stream",
     "text": [
      "\n",
      " Word Frequency:\n",
      "i: 1\n",
      "am: 1\n",
      "lavanya: 1\n"
     ]
    }
   ],
   "source": [
    "text = input(\"Enter a sentence: \")\n",
    "\n",
    "words = text.split()    \n",
    "frequency = {}          \n",
    "\n",
    "for word in words:\n",
    "    word = word.lower()\n",
    "    if word in frequency:\n",
    "        frequency[word] += 1\n",
    "    else:\n",
    "        frequency[word] = 1\n",
    "\n",
    "print(\"\\n Word Frequency:\")\n",
    "for word, count in frequency.items():\n",
    "    print(f\"{word}: {count}\")\n"
   ]
  },
  {
   "cell_type": "code",
   "execution_count": null,
   "id": "eac27767-162a-4bfe-9f7d-dffd3cf0e8ab",
   "metadata": {},
   "outputs": [],
   "source": []
  }
 ],
 "metadata": {
  "kernelspec": {
   "display_name": "Python [conda env:base] *",
   "language": "python",
   "name": "conda-base-py"
  },
  "language_info": {
   "codemirror_mode": {
    "name": "ipython",
    "version": 3
   },
   "file_extension": ".py",
   "mimetype": "text/x-python",
   "name": "python",
   "nbconvert_exporter": "python",
   "pygments_lexer": "ipython3",
   "version": "3.13.5"
  }
 },
 "nbformat": 4,
 "nbformat_minor": 5
}
