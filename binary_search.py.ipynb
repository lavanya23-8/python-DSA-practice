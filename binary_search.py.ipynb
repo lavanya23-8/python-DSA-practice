{
 "cells": [
  {
   "cell_type": "code",
   "execution_count": null,
   "id": "154ed368-f217-4938-ab43-77abea5f3628",
   "metadata": {},
   "outputs": [],
   "source": [
    "\n",
    "arr = [10, 20, 30, 40, 50, 60, 70]\n",
    "target = int(input(\"Enter number to search: \"))\n",
    "\n",
    "low = 0\n",
    "high = len(arr) - 1\n",
    "found = False\n",
    "\n",
    "while low <= high:\n",
    "    mid = (low + high) // 2\n",
    "    if arr[mid] == target:\n",
    "        print(f\"{target} found at index {mid}\")\n",
    "        found = True\n",
    "        break\n",
    "    elif arr[mid] < target:\n",
    "        low = mid + 1\n",
    "    else:\n",
    "        high = mid - 1\n",
    "\n",
    "if not found:\n",
    "    print(f\"{target} not found in the array.\")\n"
   ]
  }
 ],
 "metadata": {
  "kernelspec": {
   "display_name": "Python [conda env:base] *",
   "language": "python",
   "name": "conda-base-py"
  },
  "language_info": {
   "codemirror_mode": {
    "name": "ipython",
    "version": 3
   },
   "file_extension": ".py",
   "mimetype": "text/x-python",
   "name": "python",
   "nbconvert_exporter": "python",
   "pygments_lexer": "ipython3",
   "version": "3.13.5"
  }
 },
 "nbformat": 4,
 "nbformat_minor": 5
}
