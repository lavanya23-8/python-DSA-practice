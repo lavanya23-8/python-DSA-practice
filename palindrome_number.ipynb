{
 "cells": [
  {
   "cell_type": "code",
   "execution_count": 2,
   "id": "9f5ab167-38ec-408e-8960-c39cb30eeb52",
   "metadata": {},
   "outputs": [
    {
     "name": "stdin",
     "output_type": "stream",
     "text": [
      "Enter a number:  121\n"
     ]
    },
    {
     "name": "stdout",
     "output_type": "stream",
     "text": [
      "121 is a Palindrome \n"
     ]
    }
   ],
   "source": [
    "num = int(input(\"Enter a number: \"))\n",
    "temp = num\n",
    "rev = 0\n",
    "\n",
    "while temp > 0:\n",
    "    rev = rev * 10 + temp % 10\n",
    "    temp //= 10\n",
    "\n",
    "if rev == num:\n",
    "    print(f\"{num} is a Palindrome \")\n",
    "else:\n",
    "    print(f\"{num} is not a Palindrome \")\n"
   ]
  },
  {
   "cell_type": "code",
   "execution_count": null,
   "id": "8c8638d1-bfed-454d-8d17-b711c80937ca",
   "metadata": {},
   "outputs": [],
   "source": []
  }
 ],
 "metadata": {
  "kernelspec": {
   "display_name": "Python [conda env:base] *",
   "language": "python",
   "name": "conda-base-py"
  },
  "language_info": {
   "codemirror_mode": {
    "name": "ipython",
    "version": 3
   },
   "file_extension": ".py",
   "mimetype": "text/x-python",
   "name": "python",
   "nbconvert_exporter": "python",
   "pygments_lexer": "ipython3",
   "version": "3.13.5"
  }
 },
 "nbformat": 4,
 "nbformat_minor": 5
}
