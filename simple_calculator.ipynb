{
 "cells": [
  {
   "cell_type": "code",
   "execution_count": 1,
   "id": "a97ddb5c-5bb8-495b-a515-7b2486609968",
   "metadata": {},
   "outputs": [
    {
     "name": "stdout",
     "output_type": "stream",
     "text": [
      " Simple Calculator \n"
     ]
    },
    {
     "name": "stdin",
     "output_type": "stream",
     "text": [
      "Enter first number:  3\n",
      "Enter second number:  4\n"
     ]
    },
    {
     "name": "stdout",
     "output_type": "stream",
     "text": [
      "Select operation: +, -, *, /\n"
     ]
    },
    {
     "name": "stdin",
     "output_type": "stream",
     "text": [
      "Enter operator:  +\n"
     ]
    },
    {
     "name": "stdout",
     "output_type": "stream",
     "text": [
      "Result: 7.0\n"
     ]
    }
   ],
   "source": [
    "def add(a, b): return a + b\n",
    "def subtract(a, b): return a - b\n",
    "def multiply(a, b): return a * b\n",
    "def divide(a, b):\n",
    "    if b != 0:\n",
    "        return a / b\n",
    "    else:\n",
    "        return \"Error: Division by zero!\"\n",
    "\n",
    "print(\" Simple Calculator \")\n",
    "a = float(input(\"Enter first number: \"))\n",
    "b = float(input(\"Enter second number: \"))\n",
    "\n",
    "print(\"Select operation: +, -, *, /\")\n",
    "op = input(\"Enter operator: \")\n",
    "\n",
    "if op == '+':\n",
    "    print(\"Result:\", add(a, b))\n",
    "elif op == '-':\n",
    "    print(\"Result:\", subtract(a, b))\n",
    "elif op == '*':\n",
    "    print(\"Result:\", multiply(a, b))\n",
    "elif op == '/':\n",
    "    print(\"Result:\", divide(a, b))\n",
    "else:\n",
    "    print(\"Invalid Operator!\")\n"
   ]
  },
  {
   "cell_type": "code",
   "execution_count": null,
   "id": "227829d9-c852-4640-a6cb-012e03ca83b2",
   "metadata": {},
   "outputs": [],
   "source": []
  }
 ],
 "metadata": {
  "kernelspec": {
   "display_name": "Python [conda env:base] *",
   "language": "python",
   "name": "conda-base-py"
  },
  "language_info": {
   "codemirror_mode": {
    "name": "ipython",
    "version": 3
   },
   "file_extension": ".py",
   "mimetype": "text/x-python",
   "name": "python",
   "nbconvert_exporter": "python",
   "pygments_lexer": "ipython3",
   "version": "3.13.5"
  }
 },
 "nbformat": 4,
 "nbformat_minor": 5
}
