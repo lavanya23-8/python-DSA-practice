{
 "cells": [
  {
   "cell_type": "code",
   "execution_count": null,
   "id": "6a234e5a-e806-4f49-8f8f-d9a27b1bf33b",
   "metadata": {},
   "outputs": [],
   "source": [
    "numbers = [12, 45, 2, 67, 33, 89, 1]\n",
    "\n",
    "largest = numbers[0]\n",
    "smallest = numbers[0]\n",
    "\n",
    "for n in numbers:\n",
    "    if n > largest:\n",
    "        largest = n\n",
    "    if n < smallest:\n",
    "        smallest = n\n",
    "\n",
    "print(\"Largest number:\", largest)\n",
    "print(\"Smallest number:\", smallest)\n"
   ]
  }
 ],
 "metadata": {
  "kernelspec": {
   "display_name": "Python [conda env:base] *",
   "language": "python",
   "name": "conda-base-py"
  },
  "language_info": {
   "codemirror_mode": {
    "name": "ipython",
    "version": 3
   },
   "file_extension": ".py",
   "mimetype": "text/x-python",
   "name": "python",
   "nbconvert_exporter": "python",
   "pygments_lexer": "ipython3",
   "version": "3.13.5"
  }
 },
 "nbformat": 4,
 "nbformat_minor": 5
}
