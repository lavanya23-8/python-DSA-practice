{
 "cells": [
  {
   "cell_type": "code",
   "execution_count": null,
   "id": "f1623dca-f594-460b-9ea0-d0bc5f99e3b9",
   "metadata": {},
   "outputs": [],
   "source": [
    "contacts = {}\n",
    "\n",
    "while True:\n",
    "    print(\"\\n1. Add Contact  2. View All  3. Search  4. Exit\")\n",
    "    choice = input(\"Enter choice: \")\n",
    "\n",
    "    if choice == '1':\n",
    "        name = input(\"Enter name: \")\n",
    "        number = input(\"Enter number: \")\n",
    "        contacts[name] = number\n",
    "    elif choice == '2':\n",
    "        for name, number in contacts.items():\n",
    "            print(name, \":\", number)\n",
    "    elif choice == '3':\n",
    "        name = input(\"Enter name to search: \")\n",
    "        print(\"Number:\", contacts.get(name, \"Not found\"))\n",
    "    elif choice == '4':\n",
    "        break\n"
   ]
  }
 ],
 "metadata": {
  "kernelspec": {
   "display_name": "Python [conda env:base] *",
   "language": "python",
   "name": "conda-base-py"
  },
  "language_info": {
   "codemirror_mode": {
    "name": "ipython",
    "version": 3
   },
   "file_extension": ".py",
   "mimetype": "text/x-python",
   "name": "python",
   "nbconvert_exporter": "python",
   "pygments_lexer": "ipython3",
   "version": "3.13.5"
  }
 },
 "nbformat": 4,
 "nbformat_minor": 5
}
