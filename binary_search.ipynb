{
 "cells": [
  {
   "cell_type": "code",
   "execution_count": 1,
   "id": "67e937b5-4582-4ce2-8e54-362c58524b0f",
   "metadata": {},
   "outputs": [
    {
     "name": "stdin",
     "output_type": "stream",
     "text": [
      "Enter number to search:  10\n"
     ]
    },
    {
     "name": "stdout",
     "output_type": "stream",
     "text": [
      "10 found at index 1\n"
     ]
    }
   ],
   "source": [
    "arr = [5, 10, 15, 20, 25, 30, 35]\n",
    "target = int(input(\"Enter number to search: \"))\n",
    "\n",
    "low = 0\n",
    "high = len(arr) - 1\n",
    "found = False\n",
    "\n",
    "while low <= high:\n",
    "    mid = (low + high) // 2\n",
    "    if arr[mid] == target:\n",
    "        print(f\"{target} found at index {mid}\")\n",
    "        found = True\n",
    "        break\n",
    "    elif arr[mid] < target:\n",
    "        low = mid + 1\n",
    "    else:\n",
    "        high = mid - 1\n",
    "\n",
    "if not found:\n",
    "    print(f\"{target} not found in the array.\")\n"
   ]
  },
  {
   "cell_type": "code",
   "execution_count": null,
   "id": "8474509e-4506-4f99-8d0e-384765684b90",
   "metadata": {},
   "outputs": [],
   "source": []
  }
 ],
 "metadata": {
  "kernelspec": {
   "display_name": "Python [conda env:base] *",
   "language": "python",
   "name": "conda-base-py"
  },
  "language_info": {
   "codemirror_mode": {
    "name": "ipython",
    "version": 3
   },
   "file_extension": ".py",
   "mimetype": "text/x-python",
   "name": "python",
   "nbconvert_exporter": "python",
   "pygments_lexer": "ipython3",
   "version": "3.13.5"
  }
 },
 "nbformat": 4,
 "nbformat_minor": 5
}
