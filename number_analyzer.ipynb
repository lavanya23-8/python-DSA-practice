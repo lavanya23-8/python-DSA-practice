{
 "cells": [
  {
   "cell_type": "code",
   "execution_count": 3,
   "id": "735e276f-3fc8-4e73-b172-30c026d0167f",
   "metadata": {},
   "outputs": [
    {
     "name": "stdin",
     "output_type": "stream",
     "text": [
      "Enter a number:  5674\n"
     ]
    },
    {
     "name": "stdout",
     "output_type": "stream",
     "text": [
      "\n",
      "Number Analysis \n",
      "Sum of digits: 22\n",
      "Reversed: 4765\n",
      "Even/Odd: Even\n",
      "Palindrome: No\n"
     ]
    }
   ],
   "source": [
    "num = int(input(\"Enter a number: \"))\n",
    "\n",
    "# Sum of digits\n",
    "sum_digits = 0\n",
    "temp = num\n",
    "while temp > 0:\n",
    "    sum_digits += temp % 10\n",
    "    temp //= 10\n",
    "\n",
    "# Reverse of number\n",
    "rev = 0\n",
    "temp = num\n",
    "while temp > 0:\n",
    "    rev = rev * 10 + temp % 10\n",
    "    temp //= 10\n",
    "\n",
    "# Even or Odd\n",
    "if num % 2 == 0:\n",
    "    even_odd = \"Even\"\n",
    "else:\n",
    "    even_odd = \"Odd\"\n",
    "\n",
    "# Palindrome check\n",
    "if num == rev:\n",
    "    palindrome = \"Yes\"\n",
    "else:\n",
    "    palindrome = \"No\"\n",
    "\n",
    "print(\"\\nNumber Analysis \")\n",
    "print(f\"Sum of digits: {sum_digits}\")\n",
    "print(f\"Reversed: {rev}\")\n",
    "print(f\"Even/Odd: {even_odd}\")\n",
    "print(f\"Palindrome: {palindrome}\")\n"
   ]
  },
  {
   "cell_type": "code",
   "execution_count": null,
   "id": "44ef8488-a668-4ca5-924f-fcc38c26b1ac",
   "metadata": {},
   "outputs": [],
   "source": []
  }
 ],
 "metadata": {
  "kernelspec": {
   "display_name": "Python [conda env:base] *",
   "language": "python",
   "name": "conda-base-py"
  },
  "language_info": {
   "codemirror_mode": {
    "name": "ipython",
    "version": 3
   },
   "file_extension": ".py",
   "mimetype": "text/x-python",
   "name": "python",
   "nbconvert_exporter": "python",
   "pygments_lexer": "ipython3",
   "version": "3.13.5"
  }
 },
 "nbformat": 4,
 "nbformat_minor": 5
}
