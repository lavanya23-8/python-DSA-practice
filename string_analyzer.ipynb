{
 "cells": [
  {
   "cell_type": "code",
   "execution_count": 2,
   "id": "59f667d9-bedb-42c7-ac57-b4ed809591e5",
   "metadata": {},
   "outputs": [
    {
     "name": "stdin",
     "output_type": "stream",
     "text": [
      "Enter a string:  gds\n"
     ]
    },
    {
     "name": "stdout",
     "output_type": "stream",
     "text": [
      "\n",
      "String Analysis \n",
      "Vowels: 0\n",
      "Consonants: 3\n",
      "Digits: 0\n",
      "Spaces: 0\n",
      "Total Characters: 3\n"
     ]
    }
   ],
   "source": [
    "text = input(\"Enter a string: \")\n",
    "\n",
    "vowels = \"aeiouAEIOU\"\n",
    "vowel_count = consonant_count = digit_count = space_count = 0\n",
    "\n",
    "for ch in text:\n",
    "    if ch in vowels:\n",
    "        vowel_count += 1\n",
    "    elif ch.isalpha():\n",
    "        consonant_count += 1\n",
    "    elif ch.isdigit():\n",
    "        digit_count += 1\n",
    "    elif ch.isspace():\n",
    "        space_count += 1\n",
    "\n",
    "print(\"\\nString Analysis \")\n",
    "print(f\"Vowels: {vowel_count}\")\n",
    "print(f\"Consonants: {consonant_count}\")\n",
    "print(f\"Digits: {digit_count}\")\n",
    "print(f\"Spaces: {space_count}\")\n",
    "print(f\"Total Characters: {len(text)}\")\n"
   ]
  },
  {
   "cell_type": "code",
   "execution_count": null,
   "id": "b8f17f75-aef4-48de-9a81-4b42badd5ac8",
   "metadata": {},
   "outputs": [],
   "source": []
  }
 ],
 "metadata": {
  "kernelspec": {
   "display_name": "Python [conda env:base] *",
   "language": "python",
   "name": "conda-base-py"
  },
  "language_info": {
   "codemirror_mode": {
    "name": "ipython",
    "version": 3
   },
   "file_extension": ".py",
   "mimetype": "text/x-python",
   "name": "python",
   "nbconvert_exporter": "python",
   "pygments_lexer": "ipython3",
   "version": "3.13.5"
  }
 },
 "nbformat": 4,
 "nbformat_minor": 5
}
