{
 "cells": [
  {
   "cell_type": "code",
   "execution_count": 2,
   "id": "94d1ac9f-003c-4193-9ced-9f70c2ed7298",
   "metadata": {},
   "outputs": [
    {
     "name": "stdin",
     "output_type": "stream",
     "text": [
      "Enter number to search:  15\n"
     ]
    },
    {
     "name": "stdout",
     "output_type": "stream",
     "text": [
      "15 found at position 2\n"
     ]
    }
   ],
   "source": [
    "def linear_search(arr, target):\n",
    "    for i in range(len(arr)):\n",
    "        if arr[i] == target:\n",
    "            return i\n",
    "    return -1\n",
    "\n",
    "arr = [5, 10, 15, 20, 25]\n",
    "target = int(input(\"Enter number to search: \"))\n",
    "\n",
    "pos = linear_search(arr, target)\n",
    "if pos != -1:\n",
    "    print(f\"{target} found at position {pos}\")\n",
    "else:\n",
    "    print(f\"{target} not found in the list\")\n"
   ]
  },
  {
   "cell_type": "code",
   "execution_count": null,
   "id": "c5e55d2d-ecae-498d-ba66-5145d7fb5837",
   "metadata": {},
   "outputs": [],
   "source": []
  }
 ],
 "metadata": {
  "kernelspec": {
   "display_name": "Python [conda env:base] *",
   "language": "python",
   "name": "conda-base-py"
  },
  "language_info": {
   "codemirror_mode": {
    "name": "ipython",
    "version": 3
   },
   "file_extension": ".py",
   "mimetype": "text/x-python",
   "name": "python",
   "nbconvert_exporter": "python",
   "pygments_lexer": "ipython3",
   "version": "3.13.5"
  }
 },
 "nbformat": 4,
 "nbformat_minor": 5
}
