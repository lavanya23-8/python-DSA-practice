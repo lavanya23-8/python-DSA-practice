{
 "cells": [
  {
   "cell_type": "code",
   "execution_count": 1,
   "id": "28651d7f-64e3-4daf-b609-abee59c64c81",
   "metadata": {},
   "outputs": [
    {
     "name": "stdin",
     "output_type": "stream",
     "text": [
      "Enter number of students:  4\n",
      "Enter marks of student 1:  23\n",
      "Enter marks of student 2:  24\n",
      "Enter marks of student 3:  56\n",
      "Enter marks of student 4:  67\n"
     ]
    },
    {
     "name": "stdout",
     "output_type": "stream",
     "text": [
      "\n",
      " Student Marks Report \n",
      "All Marks: [23, 24, 56, 67]\n",
      "Total Marks: 170\n",
      "Average Marks: 42.5\n",
      "Highest Marks: 67\n",
      "Lowest Marks: 23\n"
     ]
    }
   ],
   "source": [
    "marks = []\n",
    "n = int(input(\"Enter number of students: \"))\n",
    "\n",
    "for i in range(n):\n",
    "    score = int(input(f\"Enter marks of student {i+1}: \"))\n",
    "    marks.append(score)\n",
    "\n",
    "total = sum(marks)\n",
    "average = total / n\n",
    "highest = max(marks)\n",
    "lowest = min(marks)\n",
    "\n",
    "print(\"\\n Student Marks Report \")\n",
    "print(\"All Marks:\", marks)\n",
    "print(\"Total Marks:\", total)\n",
    "print(\"Average Marks:\", average)\n",
    "print(\"Highest Marks:\", highest)\n",
    "print(\"Lowest Marks:\", lowest)\n"
   ]
  },
  {
   "cell_type": "code",
   "execution_count": null,
   "id": "c6116399-48b0-40d4-b29a-4e1a128f8bf8",
   "metadata": {},
   "outputs": [],
   "source": []
  }
 ],
 "metadata": {
  "kernelspec": {
   "display_name": "Python [conda env:base] *",
   "language": "python",
   "name": "conda-base-py"
  },
  "language_info": {
   "codemirror_mode": {
    "name": "ipython",
    "version": 3
   },
   "file_extension": ".py",
   "mimetype": "text/x-python",
   "name": "python",
   "nbconvert_exporter": "python",
   "pygments_lexer": "ipython3",
   "version": "3.13.5"
  }
 },
 "nbformat": 4,
 "nbformat_minor": 5
}
