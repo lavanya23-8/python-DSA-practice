{
 "cells": [
  {
   "cell_type": "code",
   "execution_count": null,
   "id": "3aea5f48-d5c0-4a24-9f78-e3938684fd69",
   "metadata": {},
   "outputs": [],
   "source": [
    "\n",
    "arr = [10, 20, 30, 40, 50]\n",
    "target = int(input(\"Enter number to search: \"))\n",
    "\n",
    "found = False\n",
    "for i in range(len(arr)):\n",
    "    if arr[i] == target:\n",
    "        print(f\"{target} found at index {i}\")\n",
    "        found = True\n",
    "        break\n",
    "\n",
    "if not found:\n",
    "    print(f\"{target} not found in the array.\")\n"
   ]
  }
 ],
 "metadata": {
  "kernelspec": {
   "display_name": "Python [conda env:base] *",
   "language": "python",
   "name": "conda-base-py"
  },
  "language_info": {
   "codemirror_mode": {
    "name": "ipython",
    "version": 3
   },
   "file_extension": ".py",
   "mimetype": "text/x-python",
   "name": "python",
   "nbconvert_exporter": "python",
   "pygments_lexer": "ipython3",
   "version": "3.13.5"
  }
 },
 "nbformat": 4,
 "nbformat_minor": 5
}
