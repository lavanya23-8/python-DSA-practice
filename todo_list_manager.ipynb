{
 "cells": [
  {
   "cell_type": "code",
   "execution_count": null,
   "id": "9358eb58-eb5b-412b-bddb-2fa68fccab82",
   "metadata": {},
   "outputs": [
    {
     "name": "stdout",
     "output_type": "stream",
     "text": [
      "\n",
      "1. Add Task\n",
      "2. Remove Task\n",
      "3. Show Tasks\n",
      "4. Exit\n"
     ]
    }
   ],
   "source": [
    "\n",
    "tasks = []\n",
    "\n",
    "def add_task():\n",
    "    task = input(\"Enter a new task: \")\n",
    "    tasks.append(task)\n",
    "    print(f\"'{task}' added to the list.\")\n",
    "\n",
    "def remove_task():\n",
    "    task = input(\"Enter the task to remove: \")\n",
    "    if task in tasks:\n",
    "        tasks.remove(task)\n",
    "        print(f\"'{task}' removed.\")\n",
    "    else:\n",
    "        print(\"Task not found.\")\n",
    "\n",
    "def show_tasks():\n",
    "    print(\"\\n To-Do List \")\n",
    "    if not tasks:\n",
    "        print(\"No tasks yet!\")\n",
    "    else:\n",
    "        for i, task in enumerate(tasks, start=1):\n",
    "            print(f\"{i}. {task}\")\n",
    "\n",
    "while True:\n",
    "    print(\"\\n1. Add Task\\n2. Remove Task\\n3. Show Tasks\\n4. Exit\")\n",
    "    choice = int(input(\"Enter your choice: \"))\n",
    "\n",
    "    if choice == 1:\n",
    "        add_task()\n",
    "    elif choice == 2:\n",
    "        remove_task()\n",
    "    elif choice == 3:\n",
    "        show_tasks()\n",
    "    elif choice == 4:\n",
    "        break\n",
    "    else:\n",
    "        print(\"Invalid choice. Try again.\")\n"
   ]
  },
  {
   "cell_type": "code",
   "execution_count": null,
   "id": "9b97c08e-c8ea-4109-bc5c-5eded5c12138",
   "metadata": {},
   "outputs": [],
   "source": []
  }
 ],
 "metadata": {
  "kernelspec": {
   "display_name": "Python [conda env:base] *",
   "language": "python",
   "name": "conda-base-py"
  },
  "language_info": {
   "codemirror_mode": {
    "name": "ipython",
    "version": 3
   },
   "file_extension": ".py",
   "mimetype": "text/x-python",
   "name": "python",
   "nbconvert_exporter": "python",
   "pygments_lexer": "ipython3",
   "version": "3.13.5"
  }
 },
 "nbformat": 4,
 "nbformat_minor": 5
}
