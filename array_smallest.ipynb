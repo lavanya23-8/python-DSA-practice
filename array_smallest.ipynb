{
 "cells": [
  {
   "cell_type": "code",
   "execution_count": 1,
   "id": "21eccc9b-e315-4671-9558-f95197f03665",
   "metadata": {},
   "outputs": [
    {
     "name": "stdout",
     "output_type": "stream",
     "text": [
      "Smallest element in the array is: 3\n"
     ]
    }
   ],
   "source": [
    "\n",
    "\n",
    "arr = [12, 5, 7, 20, 3]\n",
    "smallest = arr[0]\n",
    "\n",
    "for num in arr:\n",
    "    if num < smallest:\n",
    "        smallest = num\n",
    "\n",
    "print(\"Smallest element in the array is:\", smallest)\n"
   ]
  },
  {
   "cell_type": "code",
   "execution_count": null,
   "id": "278bcad1-0841-408d-b9c2-f1ed9daed4b2",
   "metadata": {},
   "outputs": [],
   "source": []
  }
 ],
 "metadata": {
  "kernelspec": {
   "display_name": "Python [conda env:base] *",
   "language": "python",
   "name": "conda-base-py"
  },
  "language_info": {
   "codemirror_mode": {
    "name": "ipython",
    "version": 3
   },
   "file_extension": ".py",
   "mimetype": "text/x-python",
   "name": "python",
   "nbconvert_exporter": "python",
   "pygments_lexer": "ipython3",
   "version": "3.13.5"
  }
 },
 "nbformat": 4,
 "nbformat_minor": 5
}
