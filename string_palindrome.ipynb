{
 "cells": [
  {
   "cell_type": "code",
   "execution_count": 2,
   "id": "f6781061-b7b4-4b95-8282-5858dcd8dae9",
   "metadata": {},
   "outputs": [
    {
     "name": "stdin",
     "output_type": "stream",
     "text": [
      "Enter a string:  nan\n"
     ]
    },
    {
     "name": "stdout",
     "output_type": "stream",
     "text": [
      "Palindrome \n"
     ]
    }
   ],
   "source": [
    "text = input(\"Enter a string: \")\n",
    "\n",
    "if text == text[::-1]:\n",
    "    print(\"Palindrome \")\n",
    "else:\n",
    "    print(\"Not a Palindrome \")\n"
   ]
  },
  {
   "cell_type": "code",
   "execution_count": null,
   "id": "d48710c3-cfbc-4deb-bb9d-9cdf6794fa29",
   "metadata": {},
   "outputs": [],
   "source": []
  }
 ],
 "metadata": {
  "kernelspec": {
   "display_name": "Python [conda env:base] *",
   "language": "python",
   "name": "conda-base-py"
  },
  "language_info": {
   "codemirror_mode": {
    "name": "ipython",
    "version": 3
   },
   "file_extension": ".py",
   "mimetype": "text/x-python",
   "name": "python",
   "nbconvert_exporter": "python",
   "pygments_lexer": "ipython3",
   "version": "3.13.5"
  }
 },
 "nbformat": 4,
 "nbformat_minor": 5
}
