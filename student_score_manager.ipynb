{
 "cells": [
  {
   "cell_type": "code",
   "execution_count": null,
   "id": "624b413d-f3ee-4200-a088-153d1faab101",
   "metadata": {},
   "outputs": [
    {
     "name": "stdin",
     "output_type": "stream",
     "text": [
      "Enter number of students:  5\n",
      "\n",
      "Enter name of student 1:  lavanya\n",
      "Enter marks in 3 subjects (space separated):  23 45 78 \n"
     ]
    },
    {
     "name": "stdout",
     "output_type": "stream",
     "text": [
      "Total Marks: 146, Average: 48.67\n"
     ]
    }
   ],
   "source": [
    "# Accept number of students\n",
    "n = int(input(\"Enter number of students: \"))\n",
    "\n",
    "students = {}\n",
    "\n",
    "# Input student data\n",
    "for i in range(n):\n",
    "    name = input(f\"\\nEnter name of student {i + 1}: \")\n",
    "    marks = list(map(int, input(\"Enter marks in 3 subjects (space separated): \").split()))\n",
    "    total = sum(marks)\n",
    "    avg = total / len(marks)\n",
    "    students[name] = total\n",
    "    print(f\"Total Marks: {total}, Average: {avg:.2f}\")\n",
    "\n",
    "# Find topper\n",
    "topper = max(students, key=students.get)\n",
    "print(f\"\\n Topper: {topper} with {students[topper]} marks\")\n",
    "\n",
    "# Save to file\n",
    "with open(\"student_scores.txt\", \"w\") as f:\n",
    "    for name, total in students.items():\n",
    "        f.write(f\"{name}: {total}\\n\")\n",
    "\n",
    "print(\"\\n Data saved to student_scores.txt\")\n"
   ]
  },
  {
   "cell_type": "code",
   "execution_count": null,
   "id": "919c1070-0434-4bc6-b502-9f36d93ca33c",
   "metadata": {},
   "outputs": [],
   "source": []
  }
 ],
 "metadata": {
  "kernelspec": {
   "display_name": "Python [conda env:base] *",
   "language": "python",
   "name": "conda-base-py"
  },
  "language_info": {
   "codemirror_mode": {
    "name": "ipython",
    "version": 3
   },
   "file_extension": ".py",
   "mimetype": "text/x-python",
   "name": "python",
   "nbconvert_exporter": "python",
   "pygments_lexer": "ipython3",
   "version": "3.13.5"
  }
 },
 "nbformat": 4,
 "nbformat_minor": 5
}
