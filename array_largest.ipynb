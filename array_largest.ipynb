{
 "cells": [
  {
   "cell_type": "code",
   "execution_count": 2,
   "id": "5e5089cf-1753-401f-ad3d-fcc0bbc0c25f",
   "metadata": {},
   "outputs": [
    {
     "name": "stdout",
     "output_type": "stream",
     "text": [
      "Array: [15, 9, 27, 34, 21]\n",
      "Largest element: 34\n"
     ]
    }
   ],
   "source": [
    "arr = [15,9,27,34,21]\n",
    "largest = arr[0]\n",
    "\n",
    "for num in arr:\n",
    "    if num > largest:\n",
    "        largest = num\n",
    "        \n",
    "print(\"Array:\",arr)\n",
    "print(\"Largest element:\", largest)"
   ]
  },
  {
   "cell_type": "code",
   "execution_count": null,
   "id": "2fc182a4-6aae-4889-9da3-1058f228398c",
   "metadata": {},
   "outputs": [],
   "source": []
  }
 ],
 "metadata": {
  "kernelspec": {
   "display_name": "Python [conda env:base] *",
   "language": "python",
   "name": "conda-base-py"
  },
  "language_info": {
   "codemirror_mode": {
    "name": "ipython",
    "version": 3
   },
   "file_extension": ".py",
   "mimetype": "text/x-python",
   "name": "python",
   "nbconvert_exporter": "python",
   "pygments_lexer": "ipython3",
   "version": "3.13.5"
  }
 },
 "nbformat": 4,
 "nbformat_minor": 5
}
